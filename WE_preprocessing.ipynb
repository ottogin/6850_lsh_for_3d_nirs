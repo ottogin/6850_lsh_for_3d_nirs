{
 "cells": [
  {
   "cell_type": "code",
   "execution_count": null,
   "id": "397f1769-cabf-48d5-95dc-8530fcc214b2",
   "metadata": {},
   "outputs": [],
   "source": [
    "import sys\n",
    "sys.path.insert(1, \"thirdparty/OnTheWeightEncodedNIRs/neuralImplicitTools/src/\")\n",
    "sys.path.insert(0, \"thirdparty/OnTheWeightEncodedNIRs/neuralImplicitTools/submodules/libigl/python/\") \n",
    "\n",
    "import geometry as gm\n",
    "import argparse\n",
    "import tensorflow as tf\n",
    "import os\n",
    "\n",
    "import numpy as np\n",
    "from tqdm import tqdm"
   ]
  },
  {
   "cell_type": "code",
   "execution_count": null,
   "id": "7393d262-4f6a-4370-aa6b-2d9fdd5fd1f7",
   "metadata": {},
   "outputs": [],
   "source": [
    "def loadModel(modelPath, neuralKey=''):\n",
    "    # LOAD THE MODEL\n",
    "    #load serialized model\n",
    "    if neuralKey == '':\n",
    "        jsonFile = open(modelPath+'.json', 'r')\n",
    "    else:\n",
    "        jsonFile = open(neuralKey, 'r')\n",
    "\n",
    "    sdfModel = tf.keras.models.model_from_json(jsonFile.read())\n",
    "    jsonFile.close()\n",
    "    #load weights\n",
    "    sdfModel.load_weights(modelPath + '.h5')\n",
    "    #sdfModel.summary()\n",
    "\n",
    "    return sdfModel\n",
    "\n",
    "def inferSDF(sdfModel, res):\n",
    "    # create data sequences\n",
    "    cubeMarcher = gm.CubeMarcher()\n",
    "    inferGrid = cubeMarcher.createGrid(res)\n",
    "    S = sdfModel.predict(inferGrid)\n",
    "    return -S"
   ]
  },
  {
   "cell_type": "code",
   "execution_count": null,
   "id": "41bfb717-c00b-4ec5-a75a-51a9f6ca43a9",
   "metadata": {},
   "outputs": [],
   "source": [
    "def spin_image(verts, res=(16, 16) ):\n",
    "    # Normalise model\n",
    "    verts -= verts.mean(axis=0)\n",
    "    verts /= verts.std(axis=0)\n",
    "\n",
    "    img = np.zeros(res, dtype=int)\n",
    "\n",
    "    radiuses = np.sqrt( np.sum(verts[:, :2] ** 2, axis=1) )\n",
    "    heights = verts[:, 2]\n",
    "    \n",
    "    h_idx = np.clip(np.round((1.5 + heights) / 3 * res[0]), 0, res[0] - 1).astype(int)\n",
    "    r_idx = np.clip(np.round(radiuses / 2.5 * res[1]), 0, res[1] - 1).astype(int)\n",
    "    \n",
    "    for i, j in zip(h_idx, r_idx):\n",
    "        img[i, j] += 1\n",
    "    \n",
    "    return img.reshape(-1).astype(float) / verts.shape[0]"
   ]
  },
  {
   "cell_type": "code",
   "execution_count": 63,
   "id": "0d849e87-ac2d-4c7e-a345-5482ab56bbbf",
   "metadata": {},
   "outputs": [],
   "source": [
    "avg_from = 100\n",
    "res = 16\n",
    "sampled_points = []\n",
    "for i in range(res):\n",
    "    for j in range(res):\n",
    "        rad = 0.6 * i / res\n",
    "        x = 2 * np.random.rand(avg_from) - 1\n",
    "        y = (1 - x ** 2) ** (1/2)\n",
    "        y_sign = 2 * (np.random.rand(avg_from) > 0.5).astype(float) - 1\n",
    "        x *= rad\n",
    "        y *= rad * y_sign\n",
    "        z = np.ones(avg_from) * 0.5 * (j - int(res / 2)) / res\n",
    "        \n",
    "        sampled_points.append(np.vstack([x, z, y]).T)\n",
    "# sampled_points = tf.convert_to_tensor(np.array(sampled_points).reshape(-1, 3))"
   ]
  },
  {
   "cell_type": "code",
   "execution_count": 55,
   "id": "2a625e2a-33a5-4a8d-8acf-c098e05046fa",
   "metadata": {},
   "outputs": [
    {
     "name": "stderr",
     "output_type": "stream",
     "text": [
      "100%|██████████| 1323/1323 [14:14<00:00,  1.55it/s]\n"
     ]
    }
   ],
   "source": [
    "root = \"/mnt/arteml/classes/6850/data/trained_cars/\"\n",
    "trainedModels = [f.split('.')[0] for f in os.listdir(root) if '.h5' in f]\n",
    "trainedModels = [os.path.join(root, m) for m in trainedModels]\n",
    "\n",
    "features = []\n",
    "for m_path in tqdm(trainedModels):\n",
    "    model = loadModel(m_path)\n",
    "    s = model.predict(sampled_points)\n",
    "    \n",
    "    f = np.abs(s.reshape(-1, avg_from))\n",
    "    f = f.mean(axis=1)\n",
    "    features.append(f)"
   ]
  },
  {
   "cell_type": "code",
   "execution_count": 61,
   "id": "67e7cbff-afd7-4fdf-8f30-a6166903010a",
   "metadata": {},
   "outputs": [],
   "source": [
    "features = np.array(features)\n",
    "np.save('we_features.npy', features)"
   ]
  },
  {
   "cell_type": "code",
   "execution_count": 68,
   "id": "604d5fa6-5a73-4e42-9692-2539c964b230",
   "metadata": {},
   "outputs": [
    {
     "data": {
      "text/plain": [
       "array([[0.15233085, 0.13301085, 0.10858856, 0.07933905, 0.04647852,\n",
       "        0.01514442, 0.01609495, 0.04759592, 0.07333713, 0.06957776,\n",
       "        0.04046546, 0.00943972, 0.02230044, 0.05175715, 0.08424643,\n",
       "        0.11304448],\n",
       "       [0.15561554, 0.13375318, 0.10917135, 0.07857325, 0.04651252,\n",
       "        0.01498318, 0.01611449, 0.04740964, 0.07396949, 0.0685863 ,\n",
       "        0.03967132, 0.00814161, 0.02297132, 0.05358196, 0.08502713,\n",
       "        0.11176617],\n",
       "       [0.1587717 , 0.13499913, 0.10857272, 0.07758784, 0.04663657,\n",
       "        0.0149223 , 0.01627731, 0.04701911, 0.07523797, 0.06320439,\n",
       "        0.0332233 , 0.0034949 , 0.02733325, 0.05764891, 0.0884834 ,\n",
       "        0.11558756],\n",
       "       [0.16229607, 0.13765045, 0.10872418, 0.07771692, 0.04652677,\n",
       "        0.01502763, 0.01622921, 0.04690729, 0.06775926, 0.04724872,\n",
       "        0.02197245, 0.00671269, 0.03593275, 0.06600299, 0.09582727,\n",
       "        0.12631059],\n",
       "       [0.16242152, 0.13803166, 0.1114817 , 0.07817166, 0.04652365,\n",
       "        0.01507896, 0.01622122, 0.03776941, 0.04345491, 0.02292827,\n",
       "        0.00712399, 0.02336917, 0.04980471, 0.07845956, 0.10768748,\n",
       "        0.13815948],\n",
       "       [0.16200708, 0.13373564, 0.10834554, 0.07743958, 0.04643704,\n",
       "        0.01484193, 0.01067839, 0.02789625, 0.02476959, 0.01090846,\n",
       "        0.02101248, 0.04407948, 0.06882396, 0.09441931, 0.12622996,\n",
       "        0.14814216],\n",
       "       [0.16766727, 0.13533866, 0.10658271, 0.07658572, 0.04931164,\n",
       "        0.01989048, 0.01891348, 0.0358463 , 0.03086767, 0.02396855,\n",
       "        0.03632299, 0.06560999, 0.08666532, 0.11138729, 0.14307019,\n",
       "        0.15489398],\n",
       "       [0.1695099 , 0.13720037, 0.10725765, 0.08216058, 0.05708364,\n",
       "        0.03242215, 0.03582973, 0.04910168, 0.04454358, 0.04459343,\n",
       "        0.05130764, 0.07599046, 0.10139581, 0.13138387, 0.15324499,\n",
       "        0.16240524],\n",
       "       [0.18308283, 0.15337352, 0.11982423, 0.0915134 , 0.06623723,\n",
       "        0.04932395, 0.05402044, 0.0607701 , 0.06260426, 0.06191636,\n",
       "        0.07623958, 0.09562897, 0.1186835 , 0.13379309, 0.1629525 ,\n",
       "        0.16911493],\n",
       "       [0.19133611, 0.1640271 , 0.1324908 , 0.10736098, 0.08634543,\n",
       "        0.0732168 , 0.06893372, 0.0842859 , 0.0711505 , 0.07321903,\n",
       "        0.08902621, 0.10976103, 0.13387088, 0.1460839 , 0.17533815,\n",
       "        0.1761435 ],\n",
       "       [0.1995426 , 0.1745843 , 0.13929471, 0.11597881, 0.08563566,\n",
       "        0.06979363, 0.08228568, 0.09265845, 0.09739233, 0.10169244,\n",
       "        0.1069748 , 0.11833748, 0.13700566, 0.16695505, 0.18534987,\n",
       "        0.18373545],\n",
       "       [0.20049505, 0.18457851, 0.14318776, 0.11966029, 0.09355127,\n",
       "        0.07395215, 0.08354292, 0.09730145, 0.10834469, 0.11281066,\n",
       "        0.11977614, 0.12934339, 0.14533383, 0.17081662, 0.18828884,\n",
       "        0.18564148],\n",
       "       [0.20607336, 0.18192618, 0.15604442, 0.12577195, 0.09865478,\n",
       "        0.08350162, 0.09521843, 0.10925728, 0.11701512, 0.11542001,\n",
       "        0.1225834 , 0.1363869 , 0.14913882, 0.1746185 , 0.19586582,\n",
       "        0.19247942],\n",
       "       [0.21094726, 0.18516771, 0.16079849, 0.12954277, 0.10124558,\n",
       "        0.0919431 , 0.10141821, 0.10835328, 0.10963909, 0.11439414,\n",
       "        0.12309822, 0.14487669, 0.1489444 , 0.17498194, 0.19991799,\n",
       "        0.20103371],\n",
       "       [0.21977341, 0.18902464, 0.1656321 , 0.13811164, 0.10818771,\n",
       "        0.09321269, 0.10195886, 0.11345206, 0.1067301 , 0.1129798 ,\n",
       "        0.1228226 , 0.14454356, 0.15049592, 0.17311704, 0.20494741,\n",
       "        0.20233606],\n",
       "       [0.22741279, 0.20133309, 0.17245892, 0.14520447, 0.11096955,\n",
       "        0.09072099, 0.1043919 , 0.09990671, 0.11943602, 0.11867179,\n",
       "        0.12789205, 0.13808519, 0.14572892, 0.17913823, 0.19879197,\n",
       "        0.20031479]], dtype=float32)"
      ]
     },
     "execution_count": 68,
     "metadata": {},
     "output_type": "execute_result"
    }
   ],
   "source": [
    "features[0].reshape(16, 16)"
   ]
  },
  {
   "cell_type": "code",
   "execution_count": null,
   "id": "db6af027-b722-4a74-9c2f-63e6e1613d04",
   "metadata": {},
   "outputs": [],
   "source": []
  }
 ],
 "metadata": {
  "kernelspec": {
   "display_name": "Python [conda env:6850]",
   "language": "python",
   "name": "conda-env-6850-py"
  },
  "language_info": {
   "codemirror_mode": {
    "name": "ipython",
    "version": 3
   },
   "file_extension": ".py",
   "mimetype": "text/x-python",
   "name": "python",
   "nbconvert_exporter": "python",
   "pygments_lexer": "ipython3",
   "version": "3.6.15"
  }
 },
 "nbformat": 4,
 "nbformat_minor": 5
}
